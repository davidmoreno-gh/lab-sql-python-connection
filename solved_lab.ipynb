{
 "cells": [
  {
   "cell_type": "code",
   "execution_count": null,
   "metadata": {},
   "outputs": [],
   "source": [
    "import pandas as pd\n",
    "from sqlalchemy import create_engine\n",
    "\n",
    "# Establish a connection to the Sakila database\n",
    "def create_db_engine(user, password, host, port, database):\n",
    "    connection_string = f\"mysql+pymysql://{user}:{password}@{host}:{port}/{database}\"\n",
    "    engine = create_engine(connection_string)\n",
    "    return engine\n",
    "\n",
    "# Function to retrieve rental data for a given month and year\n",
    "def rentals_month(engine, month, year):\n",
    "    query = f\"\"\"\n",
    "    SELECT rental_id, rental_date, customer_id\n",
    "    FROM rental\n",
    "    WHERE MONTH(rental_date) = {month} AND YEAR(rental_date) = {year}\n",
    "    \"\"\"\n",
    "    df = pd.read_sql(query, engine)\n",
    "    return df\n",
    "\n",
    "# Function to count rentals per customer for a given month and year\n",
    "def rental_count_month(df, month, year):\n",
    "    rental_count = df.groupby('customer_id').size().reset_index(name=f'rentals_{month:02d}_{year}')\n",
    "    return rental_count\n",
    "\n",
    "# Function to compare rentals between two months\n",
    "def compare_rentals(df1, df2):\n",
    "    combined_df = pd.merge(df1, df2, on='customer_id', how='outer').fillna(0)\n",
    "    combined_df['difference'] = combined_df.iloc[:, 1] - combined_df.iloc[:, 2]\n",
    "    return combined_df\n",
    "\n",
    "# Example usage\n",
    "if __name__ == \"__main__\":\n",
    "    engine = create_db_engine('user', 'password', 'localhost', '3306', 'sakila')\n",
    "    \n",
    "    # Retrieve rental data for May and June\n",
    "    may_rentals = rentals_month(engine, 5, 2005)\n",
    "    june_rentals = rentals_month(engine, 6, 2005)\n",
    "    \n",
    "    # Count rentals per customer for May and June\n",
    "    may_rental_count = rental_count_month(may_rentals, 5, 2005)\n",
    "    june_rental_count = rental_count_month(june_rentals, 6, 2005)\n",
    "    \n",
    "    # Compare rentals between May and June\n",
    "    comparison_df = compare_rentals(may_rental_count, june_rental_count)\n",
    "    print(comparison_df)"
   ]
  }
 ],
 "metadata": {
  "language_info": {
   "name": "python"
  }
 },
 "nbformat": 4,
 "nbformat_minor": 2
}
